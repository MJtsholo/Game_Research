{
 "cells": [
  {
   "cell_type": "markdown",
   "metadata": {
    "slideshow": {
     "slide_type": "slide"
    }
   },
   "source": [
    "   # Creating a Succesful Game\n",
    "\n",
    "### By: Tsholofelo Mautjana \n",
    "### For: Systems Development Department"
   ]
  },
  {
   "cell_type": "markdown",
   "metadata": {
    "slideshow": {
     "slide_type": "slide"
    }
   },
   "source": [
    "In this study we were given four games to conduct our study on. We researching about different game types and what makes a game succesful, does not matter which genre.\n",
    "We observed behavior of users by allowing them to choose and play the following games uninterrupted for 10 minutes:\n",
    "\n",
    "*https://www.helicoptergame.net/ \n",
    "*http://www.addictinggames.com/action-games/vex-game.jsp \n",
    "*http://slither.io/ \n",
    "*http://www.decisionproblem.com/paperclips/index2.html "
   ]
  },
  {
   "cell_type": "markdown",
   "metadata": {
    "slideshow": {
     "slide_type": "subslide"
    }
   },
   "source": [
    "We then had to design a user survey using Google Forms and send it out to users to collect information and then\n",
    "analyse the data from the survey using jupyter notebook, we also did some additional online research, interviews and observations while participants were playing the game of their choice. The survey was conducted on 5 people, which were randomly selected and we did not specifically want people who usually play games because we want to see how games can make any person be a gamer. The survey was more of a multiple choice quiz resulting in having pie charts for results. "
   ]
  },
  {
   "cell_type": "markdown",
   "metadata": {
    "slideshow": {
     "slide_type": "subslide"
    }
   },
   "source": [
    "Games have been a part of our lives since the beginning of time, from indigenous games(playing with siblings in the back yard) to the digital era i.e now, where technology has taken over most aspects of our daily lives. Now we no longer getting dirty and all muddy thanks to tech we have our fun games on the tip of our fingers, it be on a computer, cellphone or even a gaming console you name them. \n",
    "\n",
    "Let the games begin."
   ]
  },
  {
   "cell_type": "markdown",
   "metadata": {
    "slideshow": {
     "slide_type": "slide"
    }
   },
   "source": [
    "## Below is the visualisation of our findings from the survey we conducted."
   ]
  },
  {
   "cell_type": "code",
   "execution_count": 1,
   "metadata": {
    "slideshow": {
     "slide_type": "subslide"
    }
   },
   "outputs": [],
   "source": [
    "import pandas \n",
    "import numpy as np\n",
    "import matplotlib.pyplot as plt"
   ]
  },
  {
   "cell_type": "markdown",
   "metadata": {
    "slideshow": {
     "slide_type": "subslide"
    }
   },
   "source": [
    "##### This below is the data from survey before it was analysed. "
   ]
  },
  {
   "cell_type": "code",
   "execution_count": 2,
   "metadata": {
    "slideshow": {
     "slide_type": "subslide"
    }
   },
   "outputs": [
    {
     "name": "stdout",
     "output_type": "stream",
     "text": [
      "                      Timestamp    Name and Surname  \\\n",
      "0  2019/01/24 11:46:54 AM GMT+2       Bonga Gininda   \n",
      "1   2019/01/24 2:33:17 PM GMT+2   Madikela Dikgale    \n",
      "2   2019/01/24 2:38:32 PM GMT+2            nomfundo   \n",
      "3   2019/01/25 8:40:12 AM GMT+2  Nhlalwenhle Gumede   \n",
      "4  2019/01/28 10:14:51 AM GMT+2      Mihlali Nelana   \n",
      "\n",
      "                  Email address  Gender          Department   \\\n",
      "0     gilbeth.gininda@umuzi.org    Male  Data Science/Coding   \n",
      "1           khomotjod@gmail.com  Female               Design   \n",
      "2       nomfundonkuta@gmail.com  Female  Data Science/Coding   \n",
      "3  nhlalwenhle.gumede@umuzi.org    Male  Data Science/Coding   \n",
      "4      mihlali.nelana@umuzi.org    Male  Data Science/Coding   \n",
      "\n",
      "  Which game did you play? Do you consider the game to be for...  \\\n",
      "0               Paperclips                                  Both   \n",
      "1                 Vex game                 Entertainment purpose   \n",
      "2               Slither.io                 Entertainment purpose   \n",
      "3               Slither.io                 Entertainment purpose   \n",
      "4                 Vex game                 Entertainment purpose   \n",
      "\n",
      "  Which game genre do you prefer?  \\\n",
      "0             Music centric games   \n",
      "1               Puzzle/Maze games   \n",
      "2                       Adventure   \n",
      "3                          Action   \n",
      "4                          Action   \n",
      "\n",
      "          What device(s) do you use to play games? *  \\\n",
      "0  Desktop;Gaming console(Xbox, Playstation etc.)...   \n",
      "1                                          Cellphone   \n",
      "2   Gaming console(Xbox, Playstation etc.);Cellphone   \n",
      "3             Gaming console(Xbox, Playstation etc.)   \n",
      "4   Gaming console(Xbox, Playstation etc.);Cellphone   \n",
      "\n",
      "   Rate the game you played  What is the hardest aspect of the game?  \\\n",
      "0                          1                            Instructions   \n",
      "1                          5                                Controls   \n",
      "2                          2                                Controls   \n",
      "3                          1                                Controls   \n",
      "4                          3                            Instructions   \n",
      "\n",
      "  Would you recommend the game you played to a friend?  \\\n",
      "0                                                 No     \n",
      "1                                                Yes     \n",
      "2                                              Maybe     \n",
      "3                                                 No     \n",
      "4                                                Yes     \n",
      "\n",
      "  How do you prefer to play games?  \n",
      "0                    Online gaming  \n",
      "1                     Multi-player  \n",
      "2                    Single player  \n",
      "3                     Multi-player  \n",
      "4                    Single player  \n"
     ]
    }
   ],
   "source": [
    "data1=pandas.read_csv('General_Infor.csv')\n",
    "print(data1)"
   ]
  },
  {
   "cell_type": "code",
   "execution_count": 3,
   "metadata": {
    "slideshow": {
     "slide_type": "subslide"
    }
   },
   "outputs": [
    {
     "data": {
      "text/html": [
       "<div>\n",
       "<style scoped>\n",
       "    .dataframe tbody tr th:only-of-type {\n",
       "        vertical-align: middle;\n",
       "    }\n",
       "\n",
       "    .dataframe tbody tr th {\n",
       "        vertical-align: top;\n",
       "    }\n",
       "\n",
       "    .dataframe thead th {\n",
       "        text-align: right;\n",
       "    }\n",
       "</style>\n",
       "<table border=\"1\" class=\"dataframe\">\n",
       "  <thead>\n",
       "    <tr style=\"text-align: right;\">\n",
       "      <th></th>\n",
       "      <th>Timestamp</th>\n",
       "      <th>Name and Surname</th>\n",
       "      <th>Email address</th>\n",
       "      <th>Gender</th>\n",
       "      <th>Department</th>\n",
       "      <th>Which game did you play?</th>\n",
       "      <th>Do you consider the game to be for...</th>\n",
       "      <th>Which game genre do you prefer?</th>\n",
       "      <th>What device(s) do you use to play games? *</th>\n",
       "      <th>Rate the game you played</th>\n",
       "      <th>What is the hardest aspect of the game?</th>\n",
       "      <th>Would you recommend the game you played to a friend?</th>\n",
       "      <th>How do you prefer to play games?</th>\n",
       "    </tr>\n",
       "  </thead>\n",
       "  <tbody>\n",
       "    <tr>\n",
       "      <th>0</th>\n",
       "      <td>2019/01/24 11:46:54 AM GMT+2</td>\n",
       "      <td>Bonga Gininda</td>\n",
       "      <td>gilbeth.gininda@umuzi.org</td>\n",
       "      <td>Male</td>\n",
       "      <td>Data Science/Coding</td>\n",
       "      <td>Paperclips</td>\n",
       "      <td>Both</td>\n",
       "      <td>Music centric games</td>\n",
       "      <td>Desktop;Gaming console(Xbox, Playstation etc.)...</td>\n",
       "      <td>1</td>\n",
       "      <td>Instructions</td>\n",
       "      <td>No</td>\n",
       "      <td>Online gaming</td>\n",
       "    </tr>\n",
       "    <tr>\n",
       "      <th>1</th>\n",
       "      <td>2019/01/24 2:33:17 PM GMT+2</td>\n",
       "      <td>Madikela Dikgale</td>\n",
       "      <td>khomotjod@gmail.com</td>\n",
       "      <td>Female</td>\n",
       "      <td>Design</td>\n",
       "      <td>Vex game</td>\n",
       "      <td>Entertainment purpose</td>\n",
       "      <td>Puzzle/Maze games</td>\n",
       "      <td>Cellphone</td>\n",
       "      <td>5</td>\n",
       "      <td>Controls</td>\n",
       "      <td>Yes</td>\n",
       "      <td>Multi-player</td>\n",
       "    </tr>\n",
       "    <tr>\n",
       "      <th>2</th>\n",
       "      <td>2019/01/24 2:38:32 PM GMT+2</td>\n",
       "      <td>nomfundo</td>\n",
       "      <td>nomfundonkuta@gmail.com</td>\n",
       "      <td>Female</td>\n",
       "      <td>Data Science/Coding</td>\n",
       "      <td>Slither.io</td>\n",
       "      <td>Entertainment purpose</td>\n",
       "      <td>Adventure</td>\n",
       "      <td>Gaming console(Xbox, Playstation etc.);Cellphone</td>\n",
       "      <td>2</td>\n",
       "      <td>Controls</td>\n",
       "      <td>Maybe</td>\n",
       "      <td>Single player</td>\n",
       "    </tr>\n",
       "    <tr>\n",
       "      <th>3</th>\n",
       "      <td>2019/01/25 8:40:12 AM GMT+2</td>\n",
       "      <td>Nhlalwenhle Gumede</td>\n",
       "      <td>nhlalwenhle.gumede@umuzi.org</td>\n",
       "      <td>Male</td>\n",
       "      <td>Data Science/Coding</td>\n",
       "      <td>Slither.io</td>\n",
       "      <td>Entertainment purpose</td>\n",
       "      <td>Action</td>\n",
       "      <td>Gaming console(Xbox, Playstation etc.)</td>\n",
       "      <td>1</td>\n",
       "      <td>Controls</td>\n",
       "      <td>No</td>\n",
       "      <td>Multi-player</td>\n",
       "    </tr>\n",
       "    <tr>\n",
       "      <th>4</th>\n",
       "      <td>2019/01/28 10:14:51 AM GMT+2</td>\n",
       "      <td>Mihlali Nelana</td>\n",
       "      <td>mihlali.nelana@umuzi.org</td>\n",
       "      <td>Male</td>\n",
       "      <td>Data Science/Coding</td>\n",
       "      <td>Vex game</td>\n",
       "      <td>Entertainment purpose</td>\n",
       "      <td>Action</td>\n",
       "      <td>Gaming console(Xbox, Playstation etc.);Cellphone</td>\n",
       "      <td>3</td>\n",
       "      <td>Instructions</td>\n",
       "      <td>Yes</td>\n",
       "      <td>Single player</td>\n",
       "    </tr>\n",
       "  </tbody>\n",
       "</table>\n",
       "</div>"
      ],
      "text/plain": [
       "                      Timestamp    Name and Surname  \\\n",
       "0  2019/01/24 11:46:54 AM GMT+2       Bonga Gininda   \n",
       "1   2019/01/24 2:33:17 PM GMT+2   Madikela Dikgale    \n",
       "2   2019/01/24 2:38:32 PM GMT+2            nomfundo   \n",
       "3   2019/01/25 8:40:12 AM GMT+2  Nhlalwenhle Gumede   \n",
       "4  2019/01/28 10:14:51 AM GMT+2      Mihlali Nelana   \n",
       "\n",
       "                  Email address  Gender          Department   \\\n",
       "0     gilbeth.gininda@umuzi.org    Male  Data Science/Coding   \n",
       "1           khomotjod@gmail.com  Female               Design   \n",
       "2       nomfundonkuta@gmail.com  Female  Data Science/Coding   \n",
       "3  nhlalwenhle.gumede@umuzi.org    Male  Data Science/Coding   \n",
       "4      mihlali.nelana@umuzi.org    Male  Data Science/Coding   \n",
       "\n",
       "  Which game did you play? Do you consider the game to be for...  \\\n",
       "0               Paperclips                                  Both   \n",
       "1                 Vex game                 Entertainment purpose   \n",
       "2               Slither.io                 Entertainment purpose   \n",
       "3               Slither.io                 Entertainment purpose   \n",
       "4                 Vex game                 Entertainment purpose   \n",
       "\n",
       "  Which game genre do you prefer?  \\\n",
       "0             Music centric games   \n",
       "1               Puzzle/Maze games   \n",
       "2                       Adventure   \n",
       "3                          Action   \n",
       "4                          Action   \n",
       "\n",
       "          What device(s) do you use to play games? *  \\\n",
       "0  Desktop;Gaming console(Xbox, Playstation etc.)...   \n",
       "1                                          Cellphone   \n",
       "2   Gaming console(Xbox, Playstation etc.);Cellphone   \n",
       "3             Gaming console(Xbox, Playstation etc.)   \n",
       "4   Gaming console(Xbox, Playstation etc.);Cellphone   \n",
       "\n",
       "   Rate the game you played  What is the hardest aspect of the game?  \\\n",
       "0                          1                            Instructions   \n",
       "1                          5                                Controls   \n",
       "2                          2                                Controls   \n",
       "3                          1                                Controls   \n",
       "4                          3                            Instructions   \n",
       "\n",
       "  Would you recommend the game you played to a friend?  \\\n",
       "0                                                 No     \n",
       "1                                                Yes     \n",
       "2                                              Maybe     \n",
       "3                                                 No     \n",
       "4                                                Yes     \n",
       "\n",
       "  How do you prefer to play games?  \n",
       "0                    Online gaming  \n",
       "1                     Multi-player  \n",
       "2                    Single player  \n",
       "3                     Multi-player  \n",
       "4                    Single player  "
      ]
     },
     "execution_count": 3,
     "metadata": {},
     "output_type": "execute_result"
    }
   ],
   "source": [
    "data1.head()"
   ]
  },
  {
   "cell_type": "markdown",
   "metadata": {
    "slideshow": {
     "slide_type": "slide"
    }
   },
   "source": [
    "This is where I removed some of the data that I did not need. "
   ]
  },
  {
   "cell_type": "code",
   "execution_count": 4,
   "metadata": {
    "slideshow": {
     "slide_type": "subslide"
    }
   },
   "outputs": [
    {
     "data": {
      "text/html": [
       "<div>\n",
       "<style scoped>\n",
       "    .dataframe tbody tr th:only-of-type {\n",
       "        vertical-align: middle;\n",
       "    }\n",
       "\n",
       "    .dataframe tbody tr th {\n",
       "        vertical-align: top;\n",
       "    }\n",
       "\n",
       "    .dataframe thead th {\n",
       "        text-align: right;\n",
       "    }\n",
       "</style>\n",
       "<table border=\"1\" class=\"dataframe\">\n",
       "  <thead>\n",
       "    <tr style=\"text-align: right;\">\n",
       "      <th></th>\n",
       "      <th>Gender</th>\n",
       "      <th>Department</th>\n",
       "      <th>Which game did you play?</th>\n",
       "      <th>Do you consider the game to be for...</th>\n",
       "      <th>Which game genre do you prefer?</th>\n",
       "      <th>What device(s) do you use to play games? *</th>\n",
       "      <th>Rate the game you played</th>\n",
       "      <th>What is the hardest aspect of the game?</th>\n",
       "      <th>Would you recommend the game you played to a friend?</th>\n",
       "      <th>How do you prefer to play games?</th>\n",
       "    </tr>\n",
       "  </thead>\n",
       "  <tbody>\n",
       "    <tr>\n",
       "      <th>0</th>\n",
       "      <td>Male</td>\n",
       "      <td>Data Science/Coding</td>\n",
       "      <td>Paperclips</td>\n",
       "      <td>Both</td>\n",
       "      <td>Music centric games</td>\n",
       "      <td>Desktop;Gaming console(Xbox, Playstation etc.)...</td>\n",
       "      <td>1</td>\n",
       "      <td>Instructions</td>\n",
       "      <td>No</td>\n",
       "      <td>Online gaming</td>\n",
       "    </tr>\n",
       "    <tr>\n",
       "      <th>1</th>\n",
       "      <td>Female</td>\n",
       "      <td>Design</td>\n",
       "      <td>Vex game</td>\n",
       "      <td>Entertainment purpose</td>\n",
       "      <td>Puzzle/Maze games</td>\n",
       "      <td>Cellphone</td>\n",
       "      <td>5</td>\n",
       "      <td>Controls</td>\n",
       "      <td>Yes</td>\n",
       "      <td>Multi-player</td>\n",
       "    </tr>\n",
       "    <tr>\n",
       "      <th>2</th>\n",
       "      <td>Female</td>\n",
       "      <td>Data Science/Coding</td>\n",
       "      <td>Slither.io</td>\n",
       "      <td>Entertainment purpose</td>\n",
       "      <td>Adventure</td>\n",
       "      <td>Gaming console(Xbox, Playstation etc.);Cellphone</td>\n",
       "      <td>2</td>\n",
       "      <td>Controls</td>\n",
       "      <td>Maybe</td>\n",
       "      <td>Single player</td>\n",
       "    </tr>\n",
       "    <tr>\n",
       "      <th>3</th>\n",
       "      <td>Male</td>\n",
       "      <td>Data Science/Coding</td>\n",
       "      <td>Slither.io</td>\n",
       "      <td>Entertainment purpose</td>\n",
       "      <td>Action</td>\n",
       "      <td>Gaming console(Xbox, Playstation etc.)</td>\n",
       "      <td>1</td>\n",
       "      <td>Controls</td>\n",
       "      <td>No</td>\n",
       "      <td>Multi-player</td>\n",
       "    </tr>\n",
       "    <tr>\n",
       "      <th>4</th>\n",
       "      <td>Male</td>\n",
       "      <td>Data Science/Coding</td>\n",
       "      <td>Vex game</td>\n",
       "      <td>Entertainment purpose</td>\n",
       "      <td>Action</td>\n",
       "      <td>Gaming console(Xbox, Playstation etc.);Cellphone</td>\n",
       "      <td>3</td>\n",
       "      <td>Instructions</td>\n",
       "      <td>Yes</td>\n",
       "      <td>Single player</td>\n",
       "    </tr>\n",
       "  </tbody>\n",
       "</table>\n",
       "</div>"
      ],
      "text/plain": [
       "   Gender          Department  Which game did you play?  \\\n",
       "0    Male  Data Science/Coding               Paperclips   \n",
       "1  Female               Design                 Vex game   \n",
       "2  Female  Data Science/Coding               Slither.io   \n",
       "3    Male  Data Science/Coding               Slither.io   \n",
       "4    Male  Data Science/Coding                 Vex game   \n",
       "\n",
       "  Do you consider the game to be for... Which game genre do you prefer?  \\\n",
       "0                                  Both             Music centric games   \n",
       "1                 Entertainment purpose               Puzzle/Maze games   \n",
       "2                 Entertainment purpose                       Adventure   \n",
       "3                 Entertainment purpose                          Action   \n",
       "4                 Entertainment purpose                          Action   \n",
       "\n",
       "          What device(s) do you use to play games? *  \\\n",
       "0  Desktop;Gaming console(Xbox, Playstation etc.)...   \n",
       "1                                          Cellphone   \n",
       "2   Gaming console(Xbox, Playstation etc.);Cellphone   \n",
       "3             Gaming console(Xbox, Playstation etc.)   \n",
       "4   Gaming console(Xbox, Playstation etc.);Cellphone   \n",
       "\n",
       "   Rate the game you played  What is the hardest aspect of the game?  \\\n",
       "0                          1                            Instructions   \n",
       "1                          5                                Controls   \n",
       "2                          2                                Controls   \n",
       "3                          1                                Controls   \n",
       "4                          3                            Instructions   \n",
       "\n",
       "  Would you recommend the game you played to a friend?  \\\n",
       "0                                                 No     \n",
       "1                                                Yes     \n",
       "2                                              Maybe     \n",
       "3                                                 No     \n",
       "4                                                Yes     \n",
       "\n",
       "  How do you prefer to play games?  \n",
       "0                    Online gaming  \n",
       "1                     Multi-player  \n",
       "2                    Single player  \n",
       "3                     Multi-player  \n",
       "4                    Single player  "
      ]
     },
     "execution_count": 4,
     "metadata": {},
     "output_type": "execute_result"
    }
   ],
   "source": [
    "data1.drop(['Timestamp','Name and Surname','Email address'], axis=1)"
   ]
  },
  {
   "cell_type": "code",
   "execution_count": 5,
   "metadata": {
    "slideshow": {
     "slide_type": "skip"
    }
   },
   "outputs": [
    {
     "data": {
      "text/plain": [
       "pandas.core.frame.DataFrame"
      ]
     },
     "execution_count": 5,
     "metadata": {},
     "output_type": "execute_result"
    }
   ],
   "source": [
    "type(data1)"
   ]
  },
  {
   "cell_type": "markdown",
   "metadata": {
    "slideshow": {
     "slide_type": "slide"
    }
   },
   "source": [
    "The participants had to state if they are female or male, this helps in knowing that playing games is not something that is one sided."
   ]
  },
  {
   "cell_type": "code",
   "execution_count": 6,
   "metadata": {
    "slideshow": {
     "slide_type": "subslide"
    }
   },
   "outputs": [
    {
     "data": {
      "image/png": "[encoded data removed]",
      "text/plain": [
       "<Figure size 432x288 with 1 Axes>"
      ]
     },
     "metadata": {},
     "output_type": "display_data"
    }
   ],
   "source": [
    "gender=[2, 3]\n",
    "gendertype=['Female', 'Male']\n",
    "plt.pie(gender, labels=gendertype, startangle=90, autopct='%.1f%%')\n",
    "plt.show()"
   ]
  },
  {
   "cell_type": "markdown",
   "metadata": {
    "slideshow": {
     "slide_type": "slide"
    }
   },
   "source": [
    "We asked participants which game they played."
   ]
  },
  {
   "cell_type": "code",
   "execution_count": 7,
   "metadata": {
    "slideshow": {
     "slide_type": "subslide"
    }
   },
   "outputs": [
    {
     "data": {
      "image/png": "[encoded data removed]",
      "text/plain": [
       "<Figure size 432x288 with 1 Axes>"
      ]
     },
     "metadata": {},
     "output_type": "display_data"
    }
   ],
   "source": [
    "game_played=[0, 2, 1, 2]\n",
    "games=['Helicopter', 'Slither.io', 'Paperclips', 'Vex game']\n",
    "plt.pie(game_played, labels=games, startangle=90, autopct='%.1f%%')\n",
    "plt.show()"
   ]
  },
  {
   "cell_type": "markdown",
   "metadata": {
    "slideshow": {
     "slide_type": "slide"
    }
   },
   "source": [
    "We asked if they would consider the game they played to be for educational purposes, entertainment purposes or both."
   ]
  },
  {
   "cell_type": "code",
   "execution_count": 8,
   "metadata": {
    "slideshow": {
     "slide_type": "subslide"
    }
   },
   "outputs": [
    {
     "data": {
      "image/png": "[encoded data removed]",
      "text/plain": [
       "<Figure size 432x288 with 1 Axes>"
      ]
     },
     "metadata": {},
     "output_type": "display_data"
    }
   ],
   "source": [
    "gameprefer=[0, 4, 1]\n",
    "gamestype=['Educational', 'Entertainment', 'Both']\n",
    "plt.pie(gameprefer, labels=gamestype, startangle=90, autopct='%.1f%%')\n",
    "plt.show()"
   ]
  },
  {
   "cell_type": "markdown",
   "metadata": {
    "slideshow": {
     "slide_type": "slide"
    }
   },
   "source": [
    "This is where we wanted to find out which game genres people like."
   ]
  },
  {
   "cell_type": "code",
   "execution_count": 9,
   "metadata": {
    "slideshow": {
     "slide_type": "subslide"
    }
   },
   "outputs": [
    {
     "data": {
      "image/png": "[encoded data removed]",
      "text/plain": [
       "<Figure size 432x288 with 1 Axes>"
      ]
     },
     "metadata": {},
     "output_type": "display_data"
    }
   ],
   "source": [
    "gamegenre=[0, 2, 0, 1, 1, 0, 1]\n",
    "genre=['Board games','Action', 'Sports', 'Puzzle/Maze games', 'Adventure', 'Car games', 'other']\n",
    "plt.pie(gamegenre, labels=genre, startangle=90, autopct='%.1f%%')\n",
    "plt.show()"
   ]
  },
  {
   "cell_type": "markdown",
   "metadata": {
    "slideshow": {
     "slide_type": "slide"
    }
   },
   "source": [
    "We asked which devices do they use to play these games they like."
   ]
  },
  {
   "cell_type": "code",
   "execution_count": 10,
   "metadata": {
    "slideshow": {
     "slide_type": "subslide"
    }
   },
   "outputs": [
    {
     "data": {
      "image/png": "[encoded data removed]",
      "text/plain": [
       "<Figure size 432x288 with 1 Axes>"
      ]
     },
     "metadata": {},
     "output_type": "display_data"
    }
   ],
   "source": [
    "decided=[1, 4, 4, 1]\n",
    "devices=['Desktop', 'Gaming console', 'Cellphone', 'Tablet']\n",
    "plt.pie(decided, labels=devices, startangle=90, autopct='%.1f%%')\n",
    "plt.show()"
   ]
  },
  {
   "cell_type": "markdown",
   "metadata": {
    "slideshow": {
     "slide_type": "slide"
    }
   },
   "source": [
    "We also wanted to find out what is the hardest aspect when they are playing a game."
   ]
  },
  {
   "cell_type": "code",
   "execution_count": 11,
   "metadata": {
    "slideshow": {
     "slide_type": "subslide"
    }
   },
   "outputs": [
    {
     "data": {
      "image/png": "[encoded data removed]",
      "text/plain": [
       "<Figure size 432x288 with 1 Axes>"
      ]
     },
     "metadata": {},
     "output_type": "display_data"
    }
   ],
   "source": [
    "hard_aspect=[2, 0, 3]\n",
    "aspects=['Controls', 'User interface', 'Instructions']\n",
    "plt.pie(hard_aspect, labels=aspects, startangle=90, autopct='%.1f%%')\n",
    "plt.show()"
   ]
  },
  {
   "cell_type": "markdown",
   "metadata": {
    "slideshow": {
     "slide_type": "slide"
    }
   },
   "source": [
    "According to how much they enjoyed the game, we asked if they would recommend it to their friends and family."
   ]
  },
  {
   "cell_type": "code",
   "execution_count": 12,
   "metadata": {
    "slideshow": {
     "slide_type": "subslide"
    }
   },
   "outputs": [
    {
     "data": {
      "image/png": "[encoded data removed]",
      "text/plain": [
       "<Figure size 432x288 with 1 Axes>"
      ]
     },
     "metadata": {},
     "output_type": "display_data"
    }
   ],
   "source": [
    "gamerefer=[2, 2, 1]\n",
    "referal=['Yes','No','Maybe']\n",
    "plt.pie(gamerefer, labels=referal, startangle=90, autopct='%.1f%%')\n",
    "plt.show()"
   ]
  },
  {
   "cell_type": "markdown",
   "metadata": {
    "slideshow": {
     "slide_type": "slide"
    }
   },
   "source": [
    "We figured that we can also ask how do they prefer playing the games they like it be single player, multi-player or online. "
   ]
  },
  {
   "cell_type": "code",
   "execution_count": 13,
   "metadata": {
    "slideshow": {
     "slide_type": "subslide"
    }
   },
   "outputs": [
    {
     "data": {
      "image/png": "[encoded data removed]",
      "text/plain": [
       "<Figure size 432x288 with 1 Axes>"
      ]
     },
     "metadata": {},
     "output_type": "display_data"
    }
   ],
   "source": [
    "playprefer=[2, 2, 1]\n",
    "prefer=['Single player', 'Multi-player', 'Online gaming']\n",
    "plt.pie(playprefer, labels=prefer, startangle=90, autopct='%.1f%%')\n",
    "plt.show()"
   ]
  },
  {
   "cell_type": "markdown",
   "metadata": {
    "slideshow": {
     "slide_type": "slide"
    }
   },
   "source": [
    "## Game Over\n",
    "\n",
    "We used surveys, observations, additional online research and interviews to gather our information to know how we can make or create a succesful game and what is takes for a game to be succesful. \n",
    "\n",
    "#### Survey\n",
    "The results we got from the survey were not entirely fair because we had a small number of participants so the results we got only gave us a bit of an idea about how a game should be especially looking at it in the gamers pescective. What I mean in the gamers pescpective is that when doing a game a programmer should take the user's experience into consideration because the game can not be succesful without the person playing it."
   ]
  },
  {
   "cell_type": "markdown",
   "metadata": {
    "slideshow": {
     "slide_type": "subslide"
    }
   },
   "source": [
    "#### Observations\n",
    "The observations we took from the whole process of wanting to know more about the user's experience and how we as programmers can improve that experience were of how the participants react towards the game and if ever they are having any difficulties with the game. We found out that people had trouble with some of the controls and most of them had trouble with the instructions not being clear, that resulted in them having to figure it out by themselves how to play the game forward and they ended up not enjoying the game."
   ]
  },
  {
   "cell_type": "markdown",
   "metadata": {
    "slideshow": {
     "slide_type": "subslide"
    }
   },
   "source": [
    "#### Interviews\n",
    "The interviews we did were more on open ended questions that needed an indepth answer to fully understand how the participants found the game to be. The results we got out of that were more of how the game can be improved so that a person can fully engage in the game and not feel that its boring. We also got a positive point from one of the participants that they really enjoyed how the game theyplayed was structured and they really love the graffics and it was easy to navigate around it."
   ]
  },
  {
   "cell_type": "markdown",
   "metadata": {
    "slideshow": {
     "slide_type": "subslide"
    }
   },
   "source": [
    "#### Additional Online Research\n",
    "We conducted the additional research to fully understand the success of a game. We found out that music, controls, visuals and overall experience of the gamer make up the success of a game, with the music as well as sound effects  make out a big part of enjoying the game beacuse that is how the mood is set and the gamer feel they are in the game. We also found out that anyone can make a game but it takes a real storyteller to actually get the idea across and making the game easy and attractive gets you the likes. "
   ]
  },
  {
   "cell_type": "markdown",
   "metadata": {
    "slideshow": {
     "slide_type": "subslide"
    }
   },
   "source": [
    "### Conclusion\n",
    "The study we did just showed us that not all games are great games because of minor things like controls and instructions but the biggest out come of it was that we learned that it does not take time to make a great game it just needs the programmer to be open for concerns and always consider the person who will be playing the game.\n",
    "\n",
    "The game maker must make sure that the game tells a story to keep the player engaged, like something they can relate to and make the purpose of the game clear, also keep in mind that different players like different games. Another thing is that not all factors pointed out determine the success of your game but they are essentially important to make the best game possible. "
   ]
  },
  {
   "cell_type": "markdown",
   "metadata": {
    "slideshow": {
     "slide_type": "slide"
    }
   },
   "source": [
    "# The End"
   ]
  }
 ],
 "metadata": {
  "celltoolbar": "Slideshow",
  "kernelspec": {
   "display_name": "Python 3",
   "language": "python",
   "name": "python3"
  },
  "language_info": {
   "codemirror_mode": {
    "name": "ipython",
    "version": 3
   },
   "file_extension": ".py",
   "mimetype": "text/x-python",
   "name": "python",
   "nbconvert_exporter": "python",
   "pygments_lexer": "ipython3",
   "version": "3.6.5"
  }
 },
 "nbformat": 4,
 "nbformat_minor": 2
}
